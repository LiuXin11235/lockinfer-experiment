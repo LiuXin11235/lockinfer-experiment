{
 "cells": [
  {
   "cell_type": "markdown",
   "metadata": {},
   "source": [
    "# 2017.3.27\n",
    "* /t3_data\n",
    "* 数据集：t3.txt\n",
    "* 计算10个奇异向量，并利用这10个u计算seeds\n",
    "* 奇异向量文件: u\\_10\\_t3.pickle，v\\_10\\_t3.pickle\n",
    "* blamed\\_fans和blamed\\_idols: bm\\_idols\\_u\\_total\\_10\\_t3.txt和bm\\_fans\\_u\\_total\\_10\\_t3.txt\n",
    "\n",
    "===\n",
    "\n",
    "* /full_data_3_27\n",
    "* 数据集：\n",
    "* 计算5个奇异向量\n",
    "* “Reading Data Iteration: 860”后报错Killed，内存不够\n",
    "\n",
    "# 2017.3.28\n",
    "* Filter data: 200 迭代结果1460\n",
    "* Filter data: 500\n",
    "\n",
    "# 2017.3.29\n",
    "* /t3_data\n",
    "* 画出t3数据SVD的结果，保存在plot中，下载到mac中查看，发现数据点都集中在原点，没有fraud\n",
    "* 尝试使用tweepy，但是无法连接，可能需要代理 \n",
    "    * http://stackoverflow.com/questions/29223454/user-id-to-username-tweepy\n",
    "    * http://docs.tweepy.org/en/latest/getting_started.html#introduction\n",
    "\n",
    "* 使用u1-10和u9-10得到的结果相似，尤其是Idol方面\n",
    "\n",
    "* /anti-fraud\n",
    "* 修改filter_data_by_out_degree_200.py，对已经被删除的节点，去除和它有关的所有边\n",
    "    * 依次统计出度，记录出度小于200的节点，删除和左边相关的边--迭代一轮\n",
    "    * 删除和右边相关的边\n",
    "    * hash-Undone❗️"
   ]
  },
  {
   "cell_type": "code",
   "execution_count": null,
   "metadata": {
    "collapsed": true
   },
   "outputs": [],
   "source": []
  }
 ],
 "metadata": {
  "anaconda-cloud": {},
  "kernelspec": {
   "display_name": "Python [conda root]",
   "language": "python",
   "name": "conda-root-py"
  },
  "language_info": {
   "codemirror_mode": {
    "name": "ipython",
    "version": 2
   },
   "file_extension": ".py",
   "mimetype": "text/x-python",
   "name": "python",
   "nbconvert_exporter": "python",
   "pygments_lexer": "ipython2",
   "version": "2.7.12"
  }
 },
 "nbformat": 4,
 "nbformat_minor": 1
}
