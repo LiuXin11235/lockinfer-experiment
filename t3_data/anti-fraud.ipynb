{
 "cells": [
  {
   "cell_type": "code",
   "execution_count": 66,
   "metadata": {
    "collapsed": false
   },
   "outputs": [],
   "source": [
    "import numpy as np\n",
    "import scipy\n",
    "from scipy.sparse import coo_matrix\n",
    "from scipy.sparse import csr_matrix\n",
    "from scipy.sparse.linalg import svds\n",
    "import math\n",
    "import random\n",
    "import json\n",
    "import pickle\n",
    "import matplotlib.pyplot as plt\n",
    "import tweepy"
   ]
  },
  {
   "cell_type": "markdown",
   "metadata": {},
   "source": [
    "## scipy中sparse matrix例子"
   ]
  },
  {
   "cell_type": "code",
   "execution_count": 5,
   "metadata": {
    "collapsed": true
   },
   "outputs": [],
   "source": [
    "rows = [2, 236, 246, 389, 1691]\n",
    "cols = [117, 3, 34, 2757, 74, 1635, 52]\n",
    "prod = [(x, y) for x in rows for y in cols] # combinations\n",
    "r = [x for (x, y) in prod] # x_coordinate\n",
    "c = [y for (x, y) in prod] # y_coordinate\n",
    "data = [1] * len(r)\n",
    "m = scipy.sparse.coo_matrix((data, (r, c)), shape=(100000, 40000))"
   ]
  },
  {
   "cell_type": "markdown",
   "metadata": {
    "collapsed": true
   },
   "source": [
    "# 0.清洗数据，删除出度小于50的点--不用执行\n",
    "* 假设文件中的节点都是按照顺序排列的\n",
    "* 初始ID为0，初始边list为空\n",
    "* 读取一行，判断和上一行的ID是否相同，如果相同，则加到list中；如果不同，则判断上一次的list是否满足下限要求，进行输出；更新ID和list\n",
    "* 最后还需要输出一次\n",
    "\n",
    "  ======================================================================================================================\n",
    "\n",
    "* 新建filter_data_by_out_degree.py，在后台运行"
   ]
  },
  {
   "cell_type": "code",
   "execution_count": null,
   "metadata": {
    "collapsed": true
   },
   "outputs": [],
   "source": [
    "# -*- encoding:utf-8 -*-\n",
    "f_raw_name = \"/home/ubuntu/data/twitter_rv.net\"\n",
    "f_cleaned_name = \"/home/ubuntu/data/twitter_rv_pro_50.net\"\n",
    "\n",
    "iter_n = 0\n",
    "stop_n = 90000000\n",
    "min_thre = 50#出度下限\n",
    "\n",
    "f_raw = open(f_raw_name,\"r\")\n",
    "f_cleaned = open(f_cleaned_name,\"w\")\n",
    "\n",
    "last_ID = 0\n",
    "last_edges = []\n",
    "\n",
    "for line in f_raw.xreadlines():\n",
    "    cur_edge = line.strip(\"\\n\").split(\"\t\")\n",
    "    left = cur_edge[0]\n",
    "    right = cur_edge[1]\n",
    "    if left==last_ID:\n",
    "        last_edges.append(cur_edge)\n",
    "    else:\n",
    "        if len(last_edges)>min_thre:\n",
    "            for edge in last_edges:\n",
    "                f_cleaned.write(str(edge[0]+\"\t\"+edge[1]+\"\\n\"))\n",
    "        last_ID = left\n",
    "        last_edges = [cur_edge]\n",
    "    iter_n += 1\n",
    "    if (iter_n%10000000==0):\n",
    "        print iter_n/1000000\n",
    "#     if (iter_n==stop_n):\n",
    "#         break\n",
    "if len(last_edges)>min_thre:\n",
    "    for edge in last_edges:\n",
    "        f_cleaned.write(str(edge[0]+\"\t\"+edge[1]+\"\\n\"))\n",
    "print \"Done\"\n"
   ]
  },
  {
   "cell_type": "markdown",
   "metadata": {},
   "source": [
    "# 1.读数据-t3.txt  毕克预处理后的文件\n",
    "\n",
    "\n",
    "* t3.txt 是洗完之后的数据，点离散化了，\n",
    "一行两个数，点的范围是[0, 16310)，一共有44805533条边\n",
    "* dict.txt 是一个映射关系，表示原始ID和当前标号之间的映射关系。\n",
    "可以根据这里的ID在 https://tweeterid.com/ 得到name然后去看具体的twitter\n",
    "\n",
    "* 具体洗数据的方法是\n",
    "    * 计算平均度数（2*边数/点数）\n",
    "    * 删掉所有度数小于平均度数的点，和这些点关联的边。\n",
    "    * 重复上述过程。\n",
    "\n",
    "我最后洗出的数据每一个点的度数都>=1427\n",
    "\n",
    "为了方便后续程序使用，我将所有用户ID做了一个映射，映射到了[0, 16310)的范围。"
   ]
  },
  {
   "cell_type": "code",
   "execution_count": 6,
   "metadata": {
    "collapsed": false
   },
   "outputs": [
    {
     "name": "stdout",
     "output_type": "stream",
     "text": [
      "10\n",
      "20\n",
      "30\n",
      "40\n",
      "Done\n"
     ]
    }
   ],
   "source": [
    "edge_i = []\n",
    "edge_j = []\n",
    "N = 0# number of nodes\n",
    "iter_n = 0\n",
    "stop_n = 90000000\n",
    "f_name = \"/home/ubuntu/data/t3.txt\"\n",
    "f = open(f_name,\"r\")\n",
    "\n",
    "\n",
    "for line in f.xreadlines():\n",
    "    tmp = line.strip(\"\\n\").split(\" \")\n",
    "    edge_i.append(int(tmp[0]))\n",
    "    edge_j.append(int(tmp[1]))\n",
    "    N = max(N,int(tmp[0]))\n",
    "    N = max(N,int(tmp[1]))\n",
    "    iter_n += 1\n",
    "    if (iter_n%10000000==0):\n",
    "        print iter_n/1000000\n",
    "#     if (iter_n==stop_n):\n",
    "#         break\n",
    "print \"Done\"\n",
    "nodeij = zip(edge_i,edge_j)\n",
    "\n",
    "# with open('nodeij', 'wb') as handle:\n",
    "#     pickle.dump(nodeij, handle)"
   ]
  },
  {
   "cell_type": "code",
   "execution_count": 8,
   "metadata": {
    "collapsed": false
   },
   "outputs": [
    {
     "name": "stdout",
     "output_type": "stream",
     "text": [
      "Length of the dict: 16310\n"
     ]
    }
   ],
   "source": [
    "f_n = \"/home/ubuntu/data/dict.txt\"\n",
    "with open(f_n) as f:\n",
    "    line = f.readlines()\n",
    "line = line[0][1:(-2)]#remove { and }\n",
    "items = line.split(\",\")\n",
    "id_dict = {}\n",
    "for item in items:\n",
    "    item = item.replace(\" \",\"\").split(\":\")\n",
    "    id_dict[int(item[1])]=int(item[0])\n",
    "print \"Length of the dict:\",len(id_dict)# key is the transformed, and value is the original"
   ]
  },
  {
   "cell_type": "markdown",
   "metadata": {},
   "source": [
    "# 2. 建立稀疏矩阵并计算SVD"
   ]
  },
  {
   "cell_type": "code",
   "execution_count": 9,
   "metadata": {
    "collapsed": false
   },
   "outputs": [],
   "source": [
    "data = [1.0] * len(edge_i)\n",
    "sparse_m = scipy.sparse.coo_matrix((data, (edge_i, edge_j)), shape=(N+1,N+1))"
   ]
  },
  {
   "cell_type": "code",
   "execution_count": 10,
   "metadata": {
    "collapsed": false
   },
   "outputs": [
    {
     "name": "stdout",
     "output_type": "stream",
     "text": [
      "(16310, 10)\n",
      "(10,)\n",
      "(10, 16310)\n"
     ]
    }
   ],
   "source": [
    "# singular_k = 10\n",
    "# svd_result = svds(sparse_m, k=singular_k)\n",
    "# u,s,v = svd_result[0],svd_result[1],svd_result[2]\n",
    "# print u.shape\n",
    "# print s.shape\n",
    "# print v.shape\n",
    "\n",
    "# with open('u_10_t3.pickle', 'wb') as handle:\n",
    "#     pickle.dump(u, handle)\n",
    "\n",
    "# with open('v_10_t3.pickle', 'wb') as handle:\n",
    "#     pickle.dump(v, handle)\n",
    "    \n",
    "# with open('s_10_t3.pickle', 'wb') as handle:\n",
    "#     pickle.dump(s, handle)"
   ]
  },
  {
   "cell_type": "code",
   "execution_count": 51,
   "metadata": {
    "collapsed": false
   },
   "outputs": [
    {
     "name": "stdout",
     "output_type": "stream",
     "text": [
      "(16310, 10)\n",
      "(10,)\n",
      "(10, 16310)\n",
      "[  336.35946696   364.43392137   376.46544011   436.46074881   511.5340689\n",
      "   555.32597352   747.91973802   855.85487872  2656.07712352  3468.32227425]\n"
     ]
    }
   ],
   "source": [
    "# 读取SVD结果的数据\n",
    "singular_k = 10\n",
    "with open('v_10_t3.pickle', 'r') as handle:\n",
    "    v = pickle.load(handle)\n",
    "    \n",
    "with open('u_10_t3.pickle', 'r') as handle:\n",
    "    u = pickle.load(handle)\n",
    "\n",
    "with open('s_10_t3.pickle', 'r') as handle:\n",
    "    s = pickle.load(handle)\n",
    "    \n",
    "print u.shape\n",
    "print s.shape\n",
    "print v.shape\n",
    "print s"
   ]
  },
  {
   "cell_type": "code",
   "execution_count": 38,
   "metadata": {
    "collapsed": false
   },
   "outputs": [
    {
     "name": "stdout",
     "output_type": "stream",
     "text": [
      "Plot Iteration: 0\n",
      "Plot Iteration: 1\n",
      "Plot Iteration: 2\n",
      "Plot Iteration: 3\n",
      "Plot Iteration: 4\n",
      "Plot Iteration: 5\n",
      "Plot Iteration: 6\n",
      "Plot Iteration: 7\n",
      "Plot Iteration: 8\n",
      "Plot Iteration: 9\n"
     ]
    }
   ],
   "source": [
    "# 画出singular vector的图\n",
    "plot_dir = \"plot/\"\n",
    "for i in range(0,singular_k):\n",
    "    for j in range(0,singular_k):\n",
    "        if i>=j:\n",
    "            continue\n",
    "        fig = plt.figure()\n",
    "        plt.plot(u[:,i],u[:,j],'bo',[-0.00002,0.00002],[0,0],'r--',[0,0],[-0.00002,0.00002],'r--')\n",
    "        plt.xlabel(str(i))\n",
    "        plt.ylabel(str(j))\n",
    "        t = 'U_'+str(i)+\"_\"+str(j)\n",
    "        plt.title(t)\n",
    "        fig.savefig(plot_dir+t+\".png\")\n",
    "        plt.close(fig)\n",
    "    print \"Plot U Iteration:\",i"
   ]
  },
  {
   "cell_type": "code",
   "execution_count": 42,
   "metadata": {
    "collapsed": false
   },
   "outputs": [
    {
     "name": "stdout",
     "output_type": "stream",
     "text": [
      "Plot V Iteration: 0\n",
      "Plot V Iteration: 1\n",
      "Plot V Iteration: 2\n",
      "Plot V Iteration: 3\n",
      "Plot V Iteration: 4\n",
      "Plot V Iteration: 5\n",
      "Plot V Iteration: 6\n",
      "Plot V Iteration: 7\n",
      "Plot V Iteration: 8\n",
      "Plot V Iteration: 9\n"
     ]
    }
   ],
   "source": [
    "# 画出singular vector的图\n",
    "plot_dir = \"plot/\"\n",
    "for i in range(0,singular_k):\n",
    "    for j in range(0,singular_k):\n",
    "        if i>=j:\n",
    "            continue\n",
    "        fig = plt.figure()\n",
    "        plt.plot(v[i,],v[j,],'bo',[-0.00002,0.00002],[0,0],'r--',[0,0],[-0.00002,0.00002],'r--')\n",
    "        plt.xlabel(str(i))\n",
    "        plt.ylabel(str(j))\n",
    "        t = 'V_'+str(i)+\"_\"+str(j)\n",
    "        plt.title(t)\n",
    "        fig.savefig(plot_dir+t+\".png\")\n",
    "        plt.close(fig)\n",
    "    print \"Plot V Iteration:\",i"
   ]
  },
  {
   "cell_type": "markdown",
   "metadata": {},
   "source": [
    "# 3. 选取初始seeds并找出问题节点"
   ]
  },
  {
   "cell_type": "code",
   "execution_count": 55,
   "metadata": {
    "collapsed": true
   },
   "outputs": [],
   "source": [
    "def select_seeds(u,ii,jj):\n",
    "    krou,ktheta = 5,5\n",
    "    vectorij = []\n",
    "    for arr in u:\n",
    "        vectorij.append([float(arr[ii-1]),float(arr[jj-1])])\n",
    "    N = len(vectorij)\n",
    "    routhetaij = []\n",
    "    minrou,maxrou = 1.0,-1.0\n",
    "    mintheta,maxtheta = -90.0,90.0\n",
    "    for [entryi,entryj] in vectorij:\n",
    "        rou = (entryi**2+entryj**2)**0.5\n",
    "        if entryi == 0:\n",
    "            if entryj > 0: theta = 90.0\n",
    "            if entryj < 0: theta = -90.0\n",
    "            if entryj == 0: theta = 0.0\n",
    "        else:\n",
    "            theta = math.atan(entryj/entryi)/math.pi*180.0\n",
    "        routhetaij.append([rou,theta])\n",
    "        minrou,maxrou = min(minrou,rou),max(maxrou,rou)\n",
    "    gaprou,gaptheta = (maxrou-minrou)/krou,(maxtheta-mintheta)/ktheta\n",
    "    freqrou,freqtheta = [0 for i in range(0,krou)],[0 for i in range(0,ktheta)]\n",
    "    freq = [[0 for j in range(0,ktheta)] for i in range(0,krou)]\n",
    "    u2irou,u2itheta = {},{}\n",
    "    for u in range(0,N):\n",
    "        [rou,theta] = routhetaij[u]\n",
    "        irou = max(min(int((rou-minrou)/gaprou),krou-1),0)\n",
    "        itheta = max(min(int((theta-mintheta)/gaptheta),ktheta-1),0)\n",
    "        freqrou[irou] += 1\n",
    "        u2irou[u] = irou\n",
    "        if irou > 0:\n",
    "            freqtheta[itheta] += 1\n",
    "            u2itheta[u] = itheta\n",
    "        freq[irou][itheta] += 1\n",
    "    posrou = 0\n",
    "    seed_start = False\n",
    "    for irou in range(0,krou):\n",
    "        if seed_start and freqrou[irou] > 0:\n",
    "            posrou = irou\n",
    "            break\n",
    "        if freqrou[irou] == 0: seed_start = True\n",
    "    seedrou,seedtheta = set(),set()\n",
    "    for u in u2irou:\n",
    "        if u2irou[u] >= posrou:\n",
    "            seedrou.add(u)\n",
    "    for u in u2itheta:\n",
    "        seedtheta.add(u)\n",
    "    return seedrou & seedtheta"
   ]
  },
  {
   "cell_type": "code",
   "execution_count": 58,
   "metadata": {
    "collapsed": true
   },
   "outputs": [],
   "source": [
    "def blame_fan_idol(nodeij,seeds,N):#edge list,seed list, node number\n",
    "    D = 1.0*len(nodeij)/N/N\n",
    "    n = 10\n",
    "    density = (1.0/n*math.log(1.0*n/N)*2)/math.log(D)\n",
    "    injectedfans,injectedidols = set(),set()\n",
    "    blamedfans,blamedidols = set(seeds),set()\n",
    "    lastnum_fan,lastnum_idol = 0,0\n",
    "    iter_num = 0\n",
    "    while not (len(blamedfans) == lastnum_fan and len(blamedidols) == lastnum_idol):\n",
    "        iter_num += 1\n",
    "        lastnum_fan = len(blamedfans)\n",
    "        lastnum_idol = len(blamedidols)\n",
    "        nodej2num = {}\n",
    "        for [nodei,nodej] in nodeij:\n",
    "            if nodei in blamedfans:\n",
    "                if not nodej in nodej2num:\n",
    "                    nodej2num[nodej] = 0\n",
    "                nodej2num[nodej] += 1\n",
    "        blamedidols = set()\n",
    "        numedge = 0\n",
    "        sort_nodej2num = sorted(nodej2num.items(),key=lambda x:-x[1])\n",
    "        for item in sort_nodej2num:\n",
    "            nodej,num = item[0],item[1]\n",
    "            blamedidols.add(nodej)\n",
    "            numedge += num\n",
    "            if 1.0*numedge < density*len(blamedfans)*len(blamedidols):\n",
    "                break\n",
    "        nodei2num = {}\n",
    "        for [nodei,nodej] in nodeij:\n",
    "            if nodej in blamedidols:\n",
    "                if not nodei in nodei2num:\n",
    "                    nodei2num[nodei] = 0\n",
    "                nodei2num[nodei] += 1\n",
    "        blamedfans = set()\n",
    "        numedge = 0\n",
    "        sort_nodei2num = sorted(nodei2num.items(),key=lambda x:-x[1])\n",
    "        for item in sort_nodei2num:\n",
    "            nodei,num = item[0],item[1]\n",
    "            blamedfans.add(nodei)\n",
    "            numedge += num\n",
    "            if 1.0*numedge < density*len(blamedfans)*len(blamedidols):\n",
    "                break\n",
    "        print \"Iteration: \",iter_num,\"; Blamed fans: \",len(blamedfans),\"; Blamed idols: \", len(blamedidols),\"; Density: \",1.0*numedge/len(blamedfans)/len(blamedidols)\n",
    "    print \"迭代了\"+str(iter_num)+\"轮\"\n",
    "#     print \"precisionfan, recallfan, precisionidol, recallidol\"\n",
    "#     print precisionfan,recallfan,precisionidol,recallidol\n",
    "    return blamedfans,blamedidols"
   ]
  },
  {
   "cell_type": "markdown",
   "metadata": {},
   "source": [
    "### 3.1 选seeds"
   ]
  },
  {
   "cell_type": "code",
   "execution_count": 83,
   "metadata": {
    "collapsed": false
   },
   "outputs": [
    {
     "name": "stdout",
     "output_type": "stream",
     "text": [
      "Iteration: 1\n",
      "Iteration: 2\n",
      "Iteration: 3\n",
      "Iteration: 4\n",
      "Iteration: 5\n",
      "Iteration: 6\n",
      "Iteration: 7\n",
      "Iteration: 8\n",
      "Iteration: 9\n",
      "Iteration: 10\n"
     ]
    }
   ],
   "source": [
    "seeds = set()\n",
    "for i in range(1,singular_k+1):\n",
    "    for j in range(1,1+singular_k):\n",
    "        if i>=j:\n",
    "            continue\n",
    "        cur_seeds = select_seeds(u,i,j)\n",
    "        seeds = seeds.union(cur_seeds)\n",
    "    print \"Iteration:\",i"
   ]
  },
  {
   "cell_type": "markdown",
   "metadata": {},
   "source": [
    "### 3.2 找问题节点"
   ]
  },
  {
   "cell_type": "code",
   "execution_count": 84,
   "metadata": {
    "collapsed": false
   },
   "outputs": [
    {
     "name": "stdout",
     "output_type": "stream",
     "text": [
      "seeds size: 15719\n",
      "Iteration:  1 ; Blamed fans:  12751 ; Blamed idols:  1\n",
      "Iteration:  2 ; Blamed fans:  13358 ; Blamed idols:  9\n",
      "Iteration:  3 ; Blamed fans:  13358 ; Blamed idols:  9\n",
      "迭代了3轮\n",
      "Blamed_fans: 13358 Blamed_idols: 9\n"
     ]
    }
   ],
   "source": [
    "# 使用10个u得到的结果\n",
    "print \"seeds size:\",len(seeds)\n",
    "blamed_fans,blamed_idols = blame_fan_idol(nodeij,seeds,N)\n",
    "print \"Blamed_fans:\",len(blamed_fans),\"Blamed_idols:\",len(blamed_idols)"
   ]
  },
  {
   "cell_type": "markdown",
   "metadata": {},
   "source": [
    "### 3.3 转化ID到原始ID，并输出到文件中"
   ]
  },
  {
   "cell_type": "code",
   "execution_count": 92,
   "metadata": {
    "collapsed": false
   },
   "outputs": [],
   "source": [
    "bfans_origianl = [id_dict[i] for i in blamed_fans]\n",
    "bidols_origianl = [id_dict[i] for i in blamed_idols]\n",
    "\n",
    "post_fix = \"u_total_10_t3\"\n",
    "f_name = \"bm_fans_\"+post_fix+\".txt\"\n",
    "f = open(f_name,\"w\")\n",
    "for i in bfans_origianl:\n",
    "    f.write(str(i)+\"\\n\")\n",
    "f.close()\n",
    "\n",
    "f_name = \"bm_idols_\"+post_fix+\".txt\"\n",
    "f = open(f_name,\"w\")\n",
    "for i in bidols_origianl:\n",
    "    f.write(str(i)+\"\\n\")\n",
    "f.close()"
   ]
  },
  {
   "cell_type": "code",
   "execution_count": 93,
   "metadata": {
    "collapsed": false
   },
   "outputs": [
    {
     "name": "stdout",
     "output_type": "stream",
     "text": [
      "bm_idols_u_total_10_t3.txt\n"
     ]
    }
   ],
   "source": [
    "print f_name"
   ]
  },
  {
   "cell_type": "markdown",
   "metadata": {},
   "source": [
    "# 4. 查看ID对应的账号"
   ]
  },
  {
   "cell_type": "raw",
   "metadata": {},
   "source": [
    "方法1：手动 https://tweeterid.com\n",
    "\n",
    "Idols\n",
    "======\n",
    "\n",
    "21836409 => @LarryWentz\n",
    "14261168 => @JerryBroughton\n",
    "15274836 => @DrJeffersnBoggs\n",
    "17546076 => Error: Not Found\n",
    "11622712 => @JDRucker\n",
    "16569530 => @clatko\n",
    "15117375 => @the_gman\n",
    "11915432 => @DiyanaAlcheva\n",
    "14164855 => @Mike_Wesely\n",
    "\n",
    "\n",
    "Fans\n",
    "======\n",
    "874 => @waynesutton\n",
    "10202 => @chrisbrogan\n",
    "10419 => @newmediajim\n",
    "11071 => @omphteliba\n",
    "12801 => @ray"
   ]
  },
  {
   "cell_type": "code",
   "execution_count": 69,
   "metadata": {
    "collapsed": false
   },
   "outputs": [],
   "source": [
    "# # 方法2 API 需要代理 暂时未成功\n",
    "# auth = tweepy.OAuthHandler('echogreens', 'e0c5h1o5')\n",
    "# api = tweepy.API(auth)\n",
    "# u = api.get_user(874)\n",
    "# print u.screen_name"
   ]
  },
  {
   "cell_type": "markdown",
   "metadata": {},
   "source": [
    "# 尝试1 使用u89"
   ]
  },
  {
   "cell_type": "code",
   "execution_count": 60,
   "metadata": {
    "collapsed": false
   },
   "outputs": [
    {
     "name": "stdout",
     "output_type": "stream",
     "text": [
      "Iteration: 9\n",
      "Iteration: 10\n",
      "seeds size: 12875\n",
      "Iteration:  1 ; Blamed fans:  12471 ; Blamed idols:  1 ; Density:  1.0\n",
      "Iteration:  2 ; Blamed fans:  14111 ; Blamed idols:  5 ; Density:  0.830586067607\n",
      "Iteration:  3 ; Blamed fans:  14111 ; Blamed idols:  5 ; Density:  0.830586067607\n",
      "迭代了3轮\n",
      "Blamed_fans: 14111 Blamed_idols: 5\n"
     ]
    }
   ],
   "source": [
    "seeds = set()\n",
    "for i in range(9,singular_k+1):\n",
    "    for j in range(9,1+singular_k):\n",
    "        if i>=j:\n",
    "            continue\n",
    "        cur_seeds = select_seeds(u,i,j)\n",
    "        seeds = seeds.union(cur_seeds)\n",
    "    print \"Iteration:\",i\n",
    "    \n",
    "# 使用u89得到的结果\n",
    "print \"seeds size:\",len(seeds)\n",
    "blamed_fans,blamed_idols = blame_fan_idol(nodeij,seeds,N)\n",
    "print \"Blamed_fans:\",len(blamed_fans),\"Blamed_idols:\",len(blamed_idols)"
   ]
  },
  {
   "cell_type": "code",
   "execution_count": 61,
   "metadata": {
    "collapsed": true
   },
   "outputs": [],
   "source": [
    "post_fix = \"u_89_t3\"\n",
    "\n",
    "bfans_origianl = [id_dict[i] for i in blamed_fans]\n",
    "bidols_origianl = [id_dict[i] for i in blamed_idols]\n",
    "\n",
    "\n",
    "f_name = \"bm_fans_\"+post_fix+\".txt\"\n",
    "f = open(f_name,\"w\")\n",
    "for i in bfans_origianl:\n",
    "    f.write(str(i)+\"\\n\")\n",
    "f.close()\n",
    "\n",
    "f_name = \"bm_idols_\"+post_fix+\".txt\"\n",
    "f = open(f_name,\"w\")\n",
    "for i in bidols_origianl:\n",
    "    f.write(str(i)+\"\\n\")\n",
    "f.close()\n"
   ]
  },
  {
   "cell_type": "code",
   "execution_count": 62,
   "metadata": {
    "collapsed": false
   },
   "outputs": [
    {
     "data": {
      "text/plain": [
       "[21836409, 13082862, 17546076, 11915432, 16569530]"
      ]
     },
     "execution_count": 62,
     "metadata": {},
     "output_type": "execute_result"
    }
   ],
   "source": [
    "bidols_origianl"
   ]
  },
  {
   "cell_type": "code",
   "execution_count": 64,
   "metadata": {
    "collapsed": false
   },
   "outputs": [
    {
     "data": {
      "text/plain": [
       "[10202,\n",
       " 10419,\n",
       " 11071,\n",
       " 12305,\n",
       " 12801,\n",
       " 13348,\n",
       " 30973,\n",
       " 40103,\n",
       " 56623,\n",
       " 69893,\n",
       " 150433,\n",
       " 417273,\n",
       " 511283,\n",
       " 608473,\n",
       " 627033,\n",
       " 655783,\n",
       " 697593,\n",
       " 746323,\n",
       " 784304,\n",
       " 784492]"
      ]
     },
     "execution_count": 64,
     "metadata": {},
     "output_type": "execute_result"
    }
   ],
   "source": [
    "bfans_origianl[:20]"
   ]
  },
  {
   "cell_type": "raw",
   "metadata": {},
   "source": [
    "https://tweeterid.com\n",
    "\n",
    "Idols\n",
    "======\n",
    "21836409\n",
    "13082862\n",
    "17546076\n",
    "11915432\n",
    "16569530\n",
    "\n",
    "\n",
    "\n",
    "Fans\n",
    "======\n",
    " 10202,\n",
    " 10419,\n",
    " 11071,\n",
    " 12305,\n",
    " 12801,\n",
    " 13348,\n",
    " 30973,\n",
    " 40103,\n",
    " 56623,\n",
    " 69893,\n",
    " 150433,\n",
    " 417273,\n",
    " 511283,"
   ]
  },
  {
   "cell_type": "code",
   "execution_count": null,
   "metadata": {
    "collapsed": true
   },
   "outputs": [],
   "source": []
  }
 ],
 "metadata": {
  "anaconda-cloud": {},
  "kernelspec": {
   "display_name": "Python [conda root]",
   "language": "python",
   "name": "conda-root-py"
  },
  "language_info": {
   "codemirror_mode": {
    "name": "ipython",
    "version": 2
   },
   "file_extension": ".py",
   "mimetype": "text/x-python",
   "name": "python",
   "nbconvert_exporter": "python",
   "pygments_lexer": "ipython2",
   "version": "2.7.12"
  }
 },
 "nbformat": 4,
 "nbformat_minor": 1
}
